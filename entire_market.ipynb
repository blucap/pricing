{
 "cells": [
  {
   "cell_type": "markdown",
   "id": "clean-school",
   "metadata": {},
   "source": [
    "# Market Supply and Demand for a Product"
   ]
  },
  {
   "cell_type": "code",
   "execution_count": null,
   "id": "sexual-millennium",
   "metadata": {},
   "outputs": [],
   "source": [
    "using Plots \n",
    "using Formatting\n",
    "fmt = \"%.2f\"\n",
    "maxx = 6"
   ]
  },
  {
   "cell_type": "markdown",
   "id": "demographic-jewel",
   "metadata": {},
   "source": [
    "### Demand and supply as a function of price:"
   ]
  },
  {
   "cell_type": "code",
   "execution_count": null,
   "id": "acknowledged-saturday",
   "metadata": {},
   "outputs": [],
   "source": [
    "function demand(p)\n",
    "    50.0 - 2p\n",
    "end\n",
    "\n",
    "function supply(p)\n",
    "    10 + 5p\n",
    "end\n",
    "\n",
    "plot(demand,  0:20, xlabel = \"Price\", ylabel=\"Quantity\", label=\"Demand\")\n",
    "plot!(supply, 0:20, label=\"Supply\")"
   ]
  },
  {
   "cell_type": "markdown",
   "id": "quantitative-tract",
   "metadata": {},
   "source": [
    "### Economists flip the y-axis and x-axis:"
   ]
  },
  {
   "cell_type": "code",
   "execution_count": null,
   "id": "physical-upper",
   "metadata": {},
   "outputs": [],
   "source": [
    "function Demand(q)\n",
    "    25.0 - 0.5q\n",
    "end\n",
    "\n",
    "function Supply(q)\n",
    "    -2 + 0.2q\n",
    "end\n",
    "\n",
    "plot(Demand,  0:50, xlabel = \"Quantity (entire market)\", ylabel=\"Price\", label=\"Demand\")\n",
    "plot!(Supply, 10:50, label  = \"Supply\")"
   ]
  },
  {
   "cell_type": "code",
   "execution_count": null,
   "id": "criminal-radar",
   "metadata": {},
   "outputs": [],
   "source": [
    "function Revenue(q)\n",
    "    Demand(q)*q\n",
    "end\n",
    "plot(Revenue,  0:50, xlabel = \"Quantity\", ylabel=\"Dollars\", label=\"Total Revenue\")"
   ]
  },
  {
   "cell_type": "markdown",
   "id": "handy-providence",
   "metadata": {},
   "source": [
    "### Supply and demand meet when P = 25 − 0.5Q = −2 + 0.2Q, see slides or\n",
    "\n",
    "https://www.symbolab.com/solver/equation-calculator/25%20%E2%88%92%200.5Q%20%3D%20%E2%88%922%20%2B%200.2Q"
   ]
  },
  {
   "cell_type": "code",
   "execution_count": null,
   "id": "posted-liability",
   "metadata": {},
   "outputs": [],
   "source": [
    "Price = Supply(27/.7)\n",
    "printfmt(\"{1:>1s}: {2:.2f}\", \"Price\", Price)"
   ]
  },
  {
   "cell_type": "markdown",
   "id": "yellow-survivor",
   "metadata": {},
   "source": [
    "### Bringing it all together (I):"
   ]
  },
  {
   "cell_type": "code",
   "execution_count": null,
   "id": "fatal-hypothesis",
   "metadata": {},
   "outputs": [],
   "source": [
    "plot(Demand, 0:50, xlabel= \"Quantity\", ylabel=\"Price\", label=\"Demand\")\n",
    "plot!(Supply, 0:50, label=\"\")\n",
    "plot!([(Price)], seriestype = \"hline\", label=\"\")\n",
    "plot!([supply(Price)],     seriestype = \"vline\", label=\"\")\n",
    "plot!(annotate = [(15,20,\"Demand\", 8)])\n",
    "plot!(annotate = [(15,2,\"Supply\", 8)])\n",
    "plot!(annotate = [(supply(Price), Price*1.2, sprintf1(fmt, Price), 8)])\n",
    "plot!(annotate = [(supply(Price), Price*0.8, sprintf1(fmt, supply(Price)), 8)])"
   ]
  },
  {
   "cell_type": "markdown",
   "id": "collaborative-writing",
   "metadata": {},
   "source": [
    "### Bringing it all together (II):"
   ]
  },
  {
   "cell_type": "code",
   "execution_count": null,
   "id": "controlled-billion",
   "metadata": {},
   "outputs": [],
   "source": [
    "plot([Revenue], 0:50, xlabel= \"Quantity\", ylabel=\"Revenues\", label=\"Revenues\")\n",
    "plot!([demand(Price)],    seriestype = \"vline\", label=\"\")\n",
    "plot!([Revenue(demand(Price))], seriestype = \"hline\", label=\"\")\n",
    "plot!(annotate = [(1,  Revenue(demand(Price)), sprintf1(fmt, Revenue(demand(Price))), 8)])\n",
    "plot!(annotate = [(demand(Price), 10, sprintf1(fmt, demand(Price))   , 8)])"
   ]
  },
  {
   "cell_type": "markdown",
   "id": "ambient-sitting",
   "metadata": {},
   "source": [
    "### What about the response of markets to a 1 percent price change?\n",
    "\n",
    "Use the slope from the first demand function (-2) to calculate the price elasticity of demand."
   ]
  },
  {
   "cell_type": "code",
   "execution_count": null,
   "id": "acknowledged-canyon",
   "metadata": {},
   "outputs": [],
   "source": [
    "function elasticity(p)\n",
    "    -2.0p / demand(p)\n",
    "end"
   ]
  },
  {
   "cell_type": "markdown",
   "id": "aggressive-pressure",
   "metadata": {},
   "source": [
    "### Test for a price of $12.50:"
   ]
  },
  {
   "cell_type": "code",
   "execution_count": null,
   "id": "hourly-practice",
   "metadata": {},
   "outputs": [],
   "source": [
    "P1 = 12.5\n",
    "\n",
    "printfmt(\"{1:>1s}: {2:.2f}\\n\", \"Elasticity\", elasticity(P1))\n",
    "printfmt(\"{1:>1s}: {2:.2f}\\n\", \"Demand\", demand(P1))"
   ]
  },
  {
   "cell_type": "markdown",
   "id": "tight-athletics",
   "metadata": {},
   "source": [
    "### Plot elasticities for a range of prices:"
   ]
  },
  {
   "cell_type": "code",
   "execution_count": null,
   "id": "major-poland",
   "metadata": {},
   "outputs": [],
   "source": [
    "plot(elasticity, 1:20, xlabel= \"Price\", ylabel=\"Elasticity\", label=\"Elasticity\")\n",
    "plot!([12.5], seriestype = \"vline\", label=\"\")\n",
    "plot!(annotate = [(12.5,-1.025,\"|ϵ| = 1, p =12.5\", 8)])\n",
    "plot!(annotate = [(15,-3,\"Elastic demand, drop price, increase revenues.\", 8)])\n",
    "plot!(annotate = [(5,-0.75,\"Inelastic demand, drop price, hurt revenues.\", 8)])"
   ]
  },
  {
   "cell_type": "code",
   "execution_count": null,
   "id": "rapid-toyota",
   "metadata": {},
   "outputs": [],
   "source": [
    "plot!([Price], seriestype = \"vline\", label=\"\")\n",
    "plot!(annotate = [(Price,-0.4,\"|ϵ| = \" * string(round(elasticity(Price); digits = 4))*  \", p =\" * string(round(Price; digits = 2)), 8)])"
   ]
  },
  {
   "cell_type": "markdown",
   "id": "satellite-eclipse",
   "metadata": {},
   "source": [
    "### Suppose average costs behave like this:"
   ]
  },
  {
   "cell_type": "code",
   "execution_count": null,
   "id": "twenty-removal",
   "metadata": {},
   "outputs": [],
   "source": [
    "function averagecost(q)\n",
    "    q^2 - 9q + 25.964285714285715\n",
    "end\n",
    "plot(averagecost, 0:0.1:9, xlabel= \"Quantity\",  ylabel=\"Dollars\", label=\"Average Cost\")\n",
    "#averagecost(4.5)"
   ]
  },
  {
   "cell_type": "markdown",
   "id": "utility-sewing",
   "metadata": {},
   "source": [
    "### Then marginal cost would behave like this:"
   ]
  },
  {
   "cell_type": "code",
   "execution_count": null,
   "id": "breeding-official",
   "metadata": {},
   "outputs": [],
   "source": [
    "function margcost(q)\n",
    "    3q^2 - 18q + 25.964285714285715\n",
    "end\n",
    "plot!(margcost, 0:0.1:maxx, label=\"Marginal Cost\")"
   ]
  },
  {
   "cell_type": "markdown",
   "id": "liberal-klein",
   "metadata": {},
   "source": [
    "### A price taker, facing the market price of $5.71, would be forced to produce 4.5 units, when average cost are lowest:"
   ]
  },
  {
   "cell_type": "code",
   "execution_count": null,
   "id": "killing-module",
   "metadata": {},
   "outputs": [],
   "source": [
    "plot(averagecost, 0:0.1:maxx, ylabel=\"Dollars\", label=\"Average Cost\")\n",
    "\n",
    "function margcost(q)\n",
    "    3q^2 - 18q + 25.964285714285715\n",
    "end\n",
    "plot!(margcost, 0:0.1:maxx, label=\"Marginal Cost\")\n",
    "plot!([4.5], seriestype = \"vline\", label=\"\")\n",
    "plot!([Price], seriestype = \"hline\", label=\"Demand\")\n",
    "plot!(annotate = [(4.4,-1,\"Q*\", 8)])\n",
    "plot!(annotate = [(4.4,Price*1.1,\"P*\", 8)])"
   ]
  }
 ],
 "metadata": {
  "kernelspec": {
   "display_name": "Julia 1.6.0",
   "language": "julia",
   "name": "julia-1.6"
  },
  "language_info": {
   "file_extension": ".jl",
   "mimetype": "application/julia",
   "name": "julia",
   "version": "1.6.0"
  }
 },
 "nbformat": 4,
 "nbformat_minor": 5
}
