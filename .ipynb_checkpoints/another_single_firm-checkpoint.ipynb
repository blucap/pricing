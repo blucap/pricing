{
 "cells": [
  {
   "cell_type": "markdown",
   "id": "academic-creation",
   "metadata": {},
   "source": [
    "### Another example of a monopolistic supplier "
   ]
  },
  {
   "cell_type": "code",
   "execution_count": null,
   "id": "proof-candidate",
   "metadata": {},
   "outputs": [],
   "source": [
    "using Plots \n",
    "using Formatting\n",
    "fmt = \"%.2f\"\n",
    "rectangle(w, h, x, y) = Shape(x .+ [0,w,w,0], y .+ [0,0,h,h])\n",
    "maxx = 6"
   ]
  },
  {
   "cell_type": "markdown",
   "id": "cathedral-spiritual",
   "metadata": {},
   "source": [
    "### First establish cost structure"
   ]
  },
  {
   "cell_type": "code",
   "execution_count": null,
   "id": "transsexual-particle",
   "metadata": {},
   "outputs": [],
   "source": [
    "function totalcost(q)\n",
    "    q^3 - 9q^2 + 30q\n",
    "end\n",
    "plot(totalcost, 0:0.1:maxx, xlabel= \"Quantity\", ylabel=\"Dollars\", label=\"Total Cost\")"
   ]
  },
  {
   "cell_type": "code",
   "execution_count": null,
   "id": "champion-democrat",
   "metadata": {},
   "outputs": [],
   "source": [
    "function averagecost(q)\n",
    "    totalcost(q)/q\n",
    "end\n",
    "plot(averagecost, 0:0.1:maxx, ylabel=\"Dollars\", label=\"Average Cost\")\n",
    "\n",
    "function margcost(q)\n",
    "    3q^2 - 18q + 30\n",
    "end\n",
    "plot!(margcost, 0:0.1:maxx, label=\"Marginal Cost\")"
   ]
  },
  {
   "cell_type": "markdown",
   "id": "foster-cartridge",
   "metadata": {},
   "source": [
    "### Now model the demand function the firm faces"
   ]
  },
  {
   "cell_type": "code",
   "execution_count": null,
   "id": "virgin-filing",
   "metadata": {},
   "outputs": [],
   "source": [
    "function demandinv(p) # demand as a function of price\n",
    "    8 - 0.2p\n",
    "end\n",
    "\n",
    "function demand(q) # price, then, is \n",
    "    40 - 5q \n",
    "end\n",
    "plot(demand, 0:0.1:maxx, label=\"Demand\")\n",
    "\n",
    "\n",
    "function margrev(q)\n",
    "    40 - 10q\n",
    "end\n",
    "plot!(margrev, 0:0.1:maxx/1.5, label=\"Marginal Revenue\")"
   ]
  },
  {
   "cell_type": "markdown",
   "id": "official-diabetes",
   "metadata": {},
   "source": [
    "### Profit is max when MR = MC\n",
    "\n",
    "https://www.symbolab.com/solver/equation-calculator/solve%20for%20%203q%5E%7B2%7D%20-%2018q%20%2B%2030%20%3D%2040%20-%2010q"
   ]
  },
  {
   "cell_type": "markdown",
   "id": "fancy-hometown",
   "metadata": {},
   "source": [
    "### Bringing it all together"
   ]
  },
  {
   "cell_type": "code",
   "execution_count": null,
   "id": "embedded-portfolio",
   "metadata": {},
   "outputs": [],
   "source": [
    "Qstar = (4+46^0.5)/3\n",
    "price = demand(Qstar)\n",
    "plot(averagecost, 0:0.1:maxx, ylabel=\"Price and cost in dollars\", label=\"Average Cost\")\n",
    "plot!(margcost, 0:0.1:maxx, label=\"Marginal Cost\")\n",
    "plot!(demand, 0:0.1:maxx, label=\"Demand\")\n",
    "plot!(margrev, 0:0.1:maxx/1.5, label=\"Marginal Revenue\")\n",
    "plot!([Qstar], seriestype = \"vline\", label=\"Q*\")\n",
    "plot!(annotate = [(Qstar,-2.5,\"Q*\", 8)])\n",
    "plot!(annotate = [(Qstar-0.25, demand(Qstar),\"P*\", 8)])"
   ]
  },
  {
   "cell_type": "markdown",
   "id": "developmental-blake",
   "metadata": {},
   "source": [
    "### Profit is max at Q*"
   ]
  },
  {
   "cell_type": "code",
   "execution_count": null,
   "id": "focal-facial",
   "metadata": {
    "scrolled": true
   },
   "outputs": [],
   "source": [
    "plot!(rectangle(Qstar,demand(Qstar)-averagecost(Qstar),0,averagecost(Qstar)), opacity=.25, label=\"Profit\")"
   ]
  },
  {
   "cell_type": "code",
   "execution_count": null,
   "id": "medieval-passion",
   "metadata": {},
   "outputs": [],
   "source": [
    "function elasticity(p, k)\n",
    "    -p / demandinv(p) * k\n",
    "end\n",
    "e1 = elasticity(price, 0.2)\n",
    "print(\"\")"
   ]
  },
  {
   "cell_type": "code",
   "execution_count": null,
   "id": "nearby-payday",
   "metadata": {},
   "outputs": [],
   "source": [
    "printfmt(\"{1:>10s}: {2:.2f}\\n\", \"Price\", price)\n",
    "printfmt(\"{1:>10s}: {2:.2f}\\n\", \"Quantiy\", Qstar)\n",
    "printfmt(\"{1:>10s}: {2:.2f}\\n\", \"Elastcity\", elasticity(price, 0.2))\n",
    "printfmt(\"{1:>10s}: {2:.2f}\\n\", \"Marg cost\", margcost(Qstar))\n",
    "printfmt(\"{1:>10s}: {2:.2f}\\n\", \"Marg rev.\", margrev(Qstar))\n",
    "printfmt(\"{1:>10s}: {2:.2f}\\n\", \"Av cost\", averagecost(Qstar))\n",
    "printfmt(\"{1:>10s}: {2:.2f}\\n\", \"Total Rev\", Qstar*price)\n",
    "printfmt(\"{1:>10s}: {2:.2f}\\n\", \"Total Cost\", Qstar*averagecost(Qstar))\n",
    "printfmt(\"{1:>10s}: {2:.2f}\\n\", \"Price using book formula\", margcost(Qstar)*e1/(e1+1))"
   ]
  },
  {
   "cell_type": "markdown",
   "id": "explicit-comment",
   "metadata": {},
   "source": [
    "### Total revenue and total cost"
   ]
  },
  {
   "cell_type": "code",
   "execution_count": null,
   "id": "included-collins",
   "metadata": {
    "scrolled": true
   },
   "outputs": [],
   "source": [
    "function T(q)\n",
    "    demand(q)q\n",
    "end\n",
    "plot(T, 0:0.1:maxx, xlabel= \"Quantity\", ylabel=\"Revenues\", label=\"Revenues\")\n",
    "plot!(totalcost, 0:0.1:maxx, xlabel= \"Quantity\", ylabel=\"Dollars\", label=\"Total Cost\")\n",
    "plot!(annotate = [(Qstar,-5,\"Q*\", 8)])\n",
    "plot!([Qstar], seriestype = \"vline\", label=\"Q*\")"
   ]
  },
  {
   "cell_type": "code",
   "execution_count": null,
   "id": "square-basement",
   "metadata": {},
   "outputs": [],
   "source": [
    "printfmt(\"{1:>15s}: {2:.2f}\\n\", \"Max revenue at Q of \", demand(4))\n",
    "printfmt(\"{1:>15s}: {2:.2f}\\n\", \"Elasticity          \", elasticity(demand(4), 0.2))"
   ]
  }
 ],
 "metadata": {
  "kernelspec": {
   "display_name": "Julia 1.6.0",
   "language": "julia",
   "name": "julia-1.6"
  },
  "language_info": {
   "file_extension": ".jl",
   "mimetype": "application/julia",
   "name": "julia",
   "version": "1.6.0"
  }
 },
 "nbformat": 4,
 "nbformat_minor": 5
}
