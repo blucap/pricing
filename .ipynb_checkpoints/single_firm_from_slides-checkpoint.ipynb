{
 "cells": [
  {
   "cell_type": "markdown",
   "id": "cloudy-techno",
   "metadata": {},
   "source": [
    "# A monopoly"
   ]
  },
  {
   "cell_type": "code",
   "execution_count": null,
   "id": "proof-candidate",
   "metadata": {},
   "outputs": [],
   "source": [
    "using Plots \n",
    "using Formatting\n",
    "fmt = \"%.2f\"\n",
    "rectangle(w, h, x, y) = Shape(x .+ [0,w,w,0], y .+ [0,0,h,h])"
   ]
  },
  {
   "cell_type": "markdown",
   "id": "boring-picture",
   "metadata": {},
   "source": [
    "### A monopolistic supplier faces the following demand function: if price goes up demand goes down:"
   ]
  },
  {
   "cell_type": "code",
   "execution_count": null,
   "id": "straight-progress",
   "metadata": {},
   "outputs": [],
   "source": [
    "function demand(p) # Demand as a function of price\n",
    "    25 - p\n",
    "end\n",
    "plot(demand, 0:25, xlabel = \"Price\", ylabel=\"Demand\", label=\"Demand\")"
   ]
  },
  {
   "cell_type": "markdown",
   "id": "funded-monthly",
   "metadata": {},
   "source": [
    "### Flipping the x-axis and the y-axis:"
   ]
  },
  {
   "cell_type": "code",
   "execution_count": null,
   "id": "major-algeria",
   "metadata": {},
   "outputs": [],
   "source": [
    "function Demand(q) # Price as a function of demand quantity\n",
    "    25 - q\n",
    "end\n",
    "plot(Demand, 0:25, xlabel= \"Quantity\", ylabel=\"Price\", label=\"Demand\")"
   ]
  },
  {
   "cell_type": "markdown",
   "id": "romance-galaxy",
   "metadata": {},
   "source": [
    "### Total revenue is demand times Price at that level of Demand: Q * (25-Q), or Q∙P(q)"
   ]
  },
  {
   "cell_type": "code",
   "execution_count": null,
   "id": "actual-physics",
   "metadata": {},
   "outputs": [],
   "source": [
    "function Revenue(q)\n",
    "    Demand(q)q\n",
    "end\n",
    "plot(Revenue, 0:25, xlabel= \"Quantity\", ylabel=\"Dollars\", label=\"Revenues\")"
   ]
  },
  {
   "cell_type": "markdown",
   "id": "atmospheric-formula",
   "metadata": {},
   "source": [
    "### If Total revenue is 25∙Q - Q², then marginal revenue is its first derivative:\n",
    "\n",
    "### MR(q) = 25 - 2Q\n",
    "\n",
    "Meaning: if price goes down by 1 dollar (which lowers revenue), then demand goes up (which increases revenue).  \n",
    "\n",
    "It turns out that the marginal revenue line is half of the demand curve the firm faces:"
   ]
  },
  {
   "cell_type": "code",
   "execution_count": null,
   "id": "expired-reply",
   "metadata": {},
   "outputs": [],
   "source": [
    "function MargRev(q)\n",
    "    25-2q\n",
    "end\n",
    "plot(Demand, 0:25, xlabel= \"Quantity\", ylabel=\"Price\", label=\"Demand\")\n",
    "plot!(MargRev, 0:12.5, label=\"Marginal Revenue\")"
   ]
  },
  {
   "cell_type": "code",
   "execution_count": null,
   "id": "approved-swedish",
   "metadata": {},
   "outputs": [],
   "source": [
    "plot!(rectangle(12.5,Demand(12.5),0,0), opacity=.25, label=\"Max Revenue\")"
   ]
  },
  {
   "cell_type": "markdown",
   "id": "external-southeast",
   "metadata": {},
   "source": [
    "### Let's include a cost function."
   ]
  },
  {
   "cell_type": "code",
   "execution_count": null,
   "id": "sunrise-brush",
   "metadata": {},
   "outputs": [],
   "source": [
    "function totalcost(q)\n",
    "    0.2q^3  - 3.2q^2 + 21.8q\n",
    "end\n",
    "plot(totalcost, 0:15, xlabel= \"Quantity\", ylabel=\"Dollars\", label=\"Total cost\")"
   ]
  },
  {
   "cell_type": "markdown",
   "id": "unlikely-aluminum",
   "metadata": {},
   "source": [
    "### Average cost is Total Cost divided by Q"
   ]
  },
  {
   "cell_type": "code",
   "execution_count": null,
   "id": "jewish-departure",
   "metadata": {},
   "outputs": [],
   "source": [
    "function averagecost(q)\n",
    "    #0.2q^2  - 3.2q + 21.8\n",
    "    totalcost(q)/q\n",
    "end"
   ]
  },
  {
   "cell_type": "code",
   "execution_count": null,
   "id": "0efec08e",
   "metadata": {},
   "outputs": [],
   "source": [
    "plot(Demand, 0:25, xlabel= \"Quantity\", ylabel=\"Price\", label=\"Demand\")\n",
    "plot!(MargRev, 0:12.5, label=\"Marginal Revenue\")\n",
    "plot!(rectangle(12.5,Demand(12.5),0,0), opacity=.25, label=\"Max Revenue\")\n",
    "plot!(averagecost, 0:18, xlabel= \"Quantity\", ylabel=\"Dollars\", label=\"Average Cost\")"
   ]
  },
  {
   "cell_type": "markdown",
   "id": "suitable-symposium",
   "metadata": {},
   "source": [
    "### Marginal cost is  the first derivative of Total Cost"
   ]
  },
  {
   "cell_type": "code",
   "execution_count": null,
   "id": "consecutive-maryland",
   "metadata": {},
   "outputs": [],
   "source": [
    "function margcost(q)\n",
    "    0.6q^2  - 6.4q + 21.8\n",
    "end\n",
    "plot!(margcost, 2:0.1:11, label=\"Marginal cost\")"
   ]
  },
  {
   "cell_type": "markdown",
   "id": "european-mailman",
   "metadata": {},
   "source": [
    "### Bringing it all together, using data from the slides"
   ]
  },
  {
   "cell_type": "code",
   "execution_count": null,
   "id": "interested-concern",
   "metadata": {},
   "outputs": [],
   "source": [
    "price = 17 # assumed\n",
    "\n",
    "printfmt(\"{1:>1s}: {2:.2f}\\n\", \"Price\", price)\n",
    "printfmt(\"{1:>1s}: {2:.2f}\\n\", \"Quantiy\", demand(price))\n",
    "\n",
    "function elasticity(p)\n",
    "    -p / demand(p)\n",
    "end\n",
    "\n",
    "printfmt(\"{1:>1s}: {2:.2f}\\n\", \"Elastcity\", elasticity(price))\n",
    "printfmt(\"{1:>1s}: {2:.2f}\\n\", \"Variable cost (assumed equal to variable cost)\", margcost(demand(17)))\n",
    "\n",
    "e1 = elasticity(price)\n",
    "printfmt(\"{1:>1s}: {2:.2f}\\n\", \"Price using book formula\", margcost(demand(17))*e1/(e1+1))\n",
    "\n",
    "plot(Demand, 0:25, xlabel= \"Quantity\", ylabel=\"Price\", label=\"Demand\")\n",
    "plot!(MargRev, 0:12.5, label=\"Marginal Revenue\")\n",
    "\n",
    "plot!(averagecost, 2:16, label=\"AC\")\n",
    "plot!(margcost,    2:0.1:10, label=\"Marginal cost\")"
   ]
  },
  {
   "cell_type": "code",
   "execution_count": null,
   "id": "thrown-cooperative",
   "metadata": {},
   "outputs": [],
   "source": [
    "plot!(rectangle(demand(price),averagecost(demand(price)),0,0), opacity=.25, label=\"Cost\")"
   ]
  },
  {
   "cell_type": "code",
   "execution_count": null,
   "id": "planned-weight",
   "metadata": {},
   "outputs": [],
   "source": [
    "plot!(rectangle(demand(price),price,0,0), opacity=.25, label=\"Revenue\")"
   ]
  },
  {
   "cell_type": "code",
   "execution_count": null,
   "id": "6449f4da",
   "metadata": {},
   "outputs": [],
   "source": [
    "plot(totalcost, 0:15, xlabel= \"Quantity\", ylabel=\"Dollars\", label=\"Total cost\")\n",
    "plot!(Revenue, 0:15, xlabel= \"Quantity\", ylabel=\"Dollars\", label=\"Total revenues\")\n",
    "plot!([demand(price)], seriestype = \"vline\", label=\"Q*\")"
   ]
  }
 ],
 "metadata": {
  "kernelspec": {
   "display_name": "Julia 1.6.0",
   "language": "julia",
   "name": "julia-1.6"
  },
  "language_info": {
   "file_extension": ".jl",
   "mimetype": "application/julia",
   "name": "julia",
   "version": "1.6.0"
  }
 },
 "nbformat": 4,
 "nbformat_minor": 5
}
